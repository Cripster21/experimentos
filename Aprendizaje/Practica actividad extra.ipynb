{
 "cells": [
  {
   "cell_type": "code",
   "execution_count": 9,
   "metadata": {},
   "outputs": [],
   "source": [
    "import random\n",
    "\n",
    "# Listas de elementos\n",
    "personajes = [\"un mago\", \"una robot\", \"un pirata\", \"un astronauta\"]\n",
    "lugares = [\"en la luna\", \"en un castillo\", \"en el fondo del mar\", \"en un parque\"]\n",
    "objetos = [\"una espada mágica\", \"un reloj roto\", \"una llave dorada\", \"una mochila gigante\"]\n",
    "acciones = [\"descubrió un secreto\", \"perdió su memoria\", \"salvó a un dragón\", \"encontró un tesoro\"]"
   ]
  },
  {
   "cell_type": "code",
   "execution_count": 39,
   "metadata": {},
   "outputs": [
    {
     "name": "stdout",
     "output_type": "stream",
     "text": [
      "un astronauta en el fondo del mar encontró un tesoro usando una llave dorada\n"
     ]
    }
   ],
   "source": [
    "# Ejemplo de uso de la libreria random\n",
    "print(f\"{random.choice(personajes)} {random.choice(lugares)} {random.choice(acciones)} usando {random.choice(objetos)}\")"
   ]
  }
 ],
 "metadata": {
  "kernelspec": {
   "display_name": "Python 3",
   "language": "python",
   "name": "python3"
  },
  "language_info": {
   "codemirror_mode": {
    "name": "ipython",
    "version": 3
   },
   "file_extension": ".py",
   "mimetype": "text/x-python",
   "name": "python",
   "nbconvert_exporter": "python",
   "pygments_lexer": "ipython3",
   "version": "3.13.0"
  }
 },
 "nbformat": 4,
 "nbformat_minor": 2
}
