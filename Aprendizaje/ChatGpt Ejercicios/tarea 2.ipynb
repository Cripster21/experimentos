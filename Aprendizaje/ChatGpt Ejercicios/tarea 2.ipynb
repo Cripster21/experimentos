{
 "cells": [
  {
   "cell_type": "code",
   "execution_count": 5,
   "metadata": {},
   "outputs": [],
   "source": [
    "empleados = {\n",
    "    \"Carlos\": {\"area\": \"Ventas\", \"experiencia\": 1},\n",
    "    \"Ana\": {\"area\": \"Marketing\", \"experiencia\": 4},\n",
    "    \"Luis\": {\"area\": \"Desarrollo\", \"experiencia\": 6},\n",
    "    \"Maria\": {\"area\": \"Recursos Humanos\", \"experiencia\": 2},\n",
    "    \"Elena\": {\"area\": \"Ventas\", \"experiencia\": 5},\n",
    "    \"Pedro\": {\"area\": \"Desarrollo\", \"experiencia\": 3},\n",
    "    \"Sofia\": {\"area\": \"Marketing\", \"experiencia\": 7}\n",
    "}\n"
   ]
  },
  {
   "cell_type": "code",
   "execution_count": null,
   "metadata": {},
   "outputs": [
    {
     "name": "stdout",
     "output_type": "stream",
     "text": [
      "{'Principiante': 2, 'Intermedio': 3, 'Avanzado': 2}\n"
     ]
    }
   ],
   "source": [
    "def tareas_nivel_experiencia(empleados):\n",
    "    grupo_experiencia = {\n",
    "        \"Principiante\":[],\n",
    "        \"Intermedio\":[],\n",
    "        \"Avanzado\":[]\n",
    "    }\n",
    "    \n",
    "    for persona, info in empleados.items():\n",
    "        if info[\"experiencia\"] <= 2 :\n",
    "            grupo_experiencia[\"Principiante\"].append(persona)\n",
    "        elif 3 <= info[\"experiencia\"] <= 5 :\n",
    "            grupo_experiencia[\"Intermedio\"].append(persona)\n",
    "        elif info[\"experiencia\"] > 5 :\n",
    "            grupo_experiencia[\"Avanzado\"].append(persona)\n",
    "            \n",
    "    cuenta_grupo = {nivel: len(lista) for nivel, lista in grupo_experiencia.items()}\n",
    "    \n",
    "    return cuenta_grupo\n",
    "\n",
    "resultado = tareas_nivel_experiencia(empleados)\n",
    "print(resultado)"
   ]
  }
 ],
 "metadata": {
  "kernelspec": {
   "display_name": "Python 3",
   "language": "python",
   "name": "python3"
  },
  "language_info": {
   "codemirror_mode": {
    "name": "ipython",
    "version": 3
   },
   "file_extension": ".py",
   "mimetype": "text/x-python",
   "name": "python",
   "nbconvert_exporter": "python",
   "pygments_lexer": "ipython3",
   "version": "3.13.0"
  }
 },
 "nbformat": 4,
 "nbformat_minor": 2
}
