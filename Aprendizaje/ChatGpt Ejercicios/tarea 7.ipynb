{
 "cells": [
  {
   "cell_type": "code",
   "execution_count": 5,
   "metadata": {},
   "outputs": [],
   "source": [
    "equipos = {\n",
    "    \"Leones\": [3, 4, 2, 1],\n",
    "    \"Tigres\": [1, 2, 2, 3],\n",
    "    \"Águilas\": [5, 5, 3, 4],\n",
    "    \"Pumas\": [2, 1, 1, 1]\n",
    "}"
   ]
  },
  {
   "cell_type": "code",
   "execution_count": 14,
   "metadata": {},
   "outputs": [
    {
     "name": "stdout",
     "output_type": "stream",
     "text": [
      "El equipo Leones tinen un total de 10 puntos\n",
      "El equipo Tigres tinen un total de 8 puntos\n",
      "El equipo Tigres tiene poco puntaje\n",
      "El equipo Águilas tinen un total de 17 puntos\n",
      "El equipo Pumas tinen un total de 5 puntos\n",
      "El equipo Pumas tiene poco puntaje\n",
      "Equipos que superaron el humbral: {'Leones': 10, 'Águilas': 17}\n"
     ]
    }
   ],
   "source": [
    "def puntuacion_deportes(equipos):\n",
    "    total = {}\n",
    "    for grupo, puntaje in equipos.items():\n",
    "        total_puntaje = sum(puntaje)\n",
    "        if grupo and total_puntaje > 8:\n",
    "            print(f\"El equipo {grupo} tinen un total de {total_puntaje} puntos\")\n",
    "            total[grupo] = total_puntaje\n",
    "        else:\n",
    "            print(f\"El equipo {grupo} tinen un total de {total_puntaje} puntos\")\n",
    "            print(f\"El equipo {grupo} tiene poco puntaje\")\n",
    "    return f\"Equipos que superaron el humbral: {total}\"\n",
    "\n",
    "resultado = puntuacion_deportes(equipos)\n",
    "print(resultado)"
   ]
  }
 ],
 "metadata": {
  "kernelspec": {
   "display_name": "Python 3",
   "language": "python",
   "name": "python3"
  },
  "language_info": {
   "codemirror_mode": {
    "name": "ipython",
    "version": 3
   },
   "file_extension": ".py",
   "mimetype": "text/x-python",
   "name": "python",
   "nbconvert_exporter": "python",
   "pygments_lexer": "ipython3",
   "version": "3.13.0"
  }
 },
 "nbformat": 4,
 "nbformat_minor": 2
}
