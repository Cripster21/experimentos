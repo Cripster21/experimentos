{
 "cells": [
  {
   "cell_type": "code",
   "execution_count": 2,
   "metadata": {},
   "outputs": [],
   "source": [
    "libros = {\n",
    "    \"El Principito\": {\"genero\": \"Ficción\", \"disponible\": True},\n",
    "    \"1984\": {\"genero\": \"Ficción\", \"disponible\": False},\n",
    "    \"La Odisea\": {\"genero\": \"Clásicos\", \"disponible\": True},\n",
    "    \"Cien Años de Soledad\": {\"genero\": \"Ficción\", \"disponible\": True},\n",
    "    \"Orgullo y Prejuicio\": {\"genero\": \"Romántica\", \"disponible\": False},\n",
    "    \"Hamlet\": {\"genero\": \"Clásicos\", \"disponible\": True},\n",
    "    \"Don Quijote\": {\"genero\": \"Clásicos\", \"disponible\": False},\n",
    "    \"Romeo y Julieta\": {\"genero\": \"Romántica\", \"disponible\": True},\n",
    "    \"El Gran Gatsby\": {\"genero\": \"Ficción\", \"disponible\": True},\n",
    "}\n"
   ]
  },
  {
   "cell_type": "code",
   "execution_count": 7,
   "metadata": {},
   "outputs": [
    {
     "name": "stdout",
     "output_type": "stream",
     "text": [
      "{'Ficción': ['El Principito', 'Cien Años de Soledad', 'El Gran Gatsby'], 'Clásicos': ['La Odisea', 'Hamlet'], 'Romántica': ['Romeo y Julieta']}\n",
      "Genero con la mayor cantidad de libros es Ficción con un total de {3}\n"
     ]
    }
   ],
   "source": [
    "def administrar_biblioteca(libros):\n",
    "    libros_disponibles_genero = {}\n",
    "    \n",
    "    for titulo, info in libros.items():\n",
    "        if info[\"disponible\"]:\n",
    "            genero = info[\"genero\"]\n",
    "            if genero not in libros_disponibles_genero:\n",
    "                libros_disponibles_genero[genero] = []\n",
    "            libros_disponibles_genero[genero].append(titulo)\n",
    "    \n",
    "    contador_gen = {genero: len(titulo) for genero, titulo in libros_disponibles_genero.items()}\n",
    "            \n",
    "    genero_mayor = max(contador_gen, key=contador_gen.get)\n",
    "    cantidad_libros = {contador_gen[genero_mayor]}\n",
    "    \n",
    "    return libros_disponibles_genero, f\"Genero con la mayor cantidad de libros es {genero_mayor} con un total de {cantidad_libros}\"\n",
    "\n",
    "disponibles, genero_mayor = administrar_biblioteca(libros)\n",
    "print(disponibles)\n",
    "print(genero_mayor)"
   ]
  }
 ],
 "metadata": {
  "kernelspec": {
   "display_name": "Python 3",
   "language": "python",
   "name": "python3"
  },
  "language_info": {
   "codemirror_mode": {
    "name": "ipython",
    "version": 3
   },
   "file_extension": ".py",
   "mimetype": "text/x-python",
   "name": "python",
   "nbconvert_exporter": "python",
   "pygments_lexer": "ipython3",
   "version": "3.13.0"
  }
 },
 "nbformat": 4,
 "nbformat_minor": 2
}
