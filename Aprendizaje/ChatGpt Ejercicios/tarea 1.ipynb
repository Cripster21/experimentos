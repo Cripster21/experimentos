{
 "cells": [
  {
   "cell_type": "code",
   "execution_count": 5,
   "metadata": {},
   "outputs": [],
   "source": [
    "disponibilidad = {\n",
    "    \"Ana\": [\"Sabado\", \"Domingo\"],\n",
    "    \"Luis\": [\"Sabado\"],\n",
    "    \"Maria\": [\"Domingo\"],\n",
    "    \"Carlos\": [\"Sabado\", \"Domingo\"],\n",
    "    \"Elena\": [\"Domingo\"],\n",
    "    \"Pedro\": [\"Sabado\", \"Domingo\"],\n",
    "    \"Sofia\": [\"Sabado\"],\n",
    "    \"Tomas\": [\"Domingo\"]\n",
    "}\n",
    "\n",
    "no_domingo = [\"Ana\", \"Carlos\", \"Pedro\"]\n"
   ]
  },
  {
   "cell_type": "code",
   "execution_count": null,
   "metadata": {},
   "outputs": [
    {
     "name": "stdout",
     "output_type": "stream",
     "text": [
      "El mejor día para la reunión es el Domingo con 3 asistentes presenciales.\n"
     ]
    }
   ],
   "source": [
    "def turnos_fin_semanas(disponibilidad, no_domingo):\n",
    "    turno_disponible = {personas: dias for personas, dias in disponibilidad.items() if personas not in no_domingo}\n",
    "    \n",
    "    contar_dias = {\n",
    "        \"Sabado\":0,\n",
    "        \"Domingo\":0\n",
    "    }\n",
    "    \n",
    "    for dias in turno_disponible.values():\n",
    "        for dia in dias:\n",
    "            contar_dias[dia] += 1\n",
    "    \n",
    "    mejor_dia = max(contar_dias, key=contar_dias.get)\n",
    "    cantidad_asistentes = contar_dias[mejor_dia]\n",
    "    \n",
    "    return f\"El mejor día para la reunión es el {mejor_dia} con {cantidad_asistentes} asistentes presenciales.\"\n",
    "\n",
    "resultado = turnos_fin_semanas(disponibilidad, no_domingo)\n",
    "print(resultado)"
   ]
  }
 ],
 "metadata": {
  "kernelspec": {
   "display_name": "Python 3",
   "language": "python",
   "name": "python3"
  },
  "language_info": {
   "codemirror_mode": {
    "name": "ipython",
    "version": 3
   },
   "file_extension": ".py",
   "mimetype": "text/x-python",
   "name": "python",
   "nbconvert_exporter": "python",
   "pygments_lexer": "ipython3",
   "version": "3.13.0"
  }
 },
 "nbformat": 4,
 "nbformat_minor": 2
}
