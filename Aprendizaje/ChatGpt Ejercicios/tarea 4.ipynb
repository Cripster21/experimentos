{
 "cells": [
  {
   "cell_type": "code",
   "execution_count": 1,
   "metadata": {},
   "outputs": [],
   "source": [
    "presupuesto = {\n",
    "    \"Ventas\": {\n",
    "        \"suministros\": 2000,\n",
    "        \"servicios\": 1500,\n",
    "        \"salarios\": 5000\n",
    "    },\n",
    "    \"Marketing\": {\n",
    "        \"publicidad\": 3000,\n",
    "        \"servicios\": 1200,\n",
    "        \"salarios\": 4500\n",
    "    },\n",
    "    \"Desarrollo\": {\n",
    "        \"equipos\": 6000,\n",
    "        \"salarios\": 7000,\n",
    "        \"capacitaciones\": 1500\n",
    "    },\n",
    "    \"Recursos Humanos\": {\n",
    "        \"salarios\": 4000,\n",
    "        \"capacitaciones\": 1000\n",
    "    }\n",
    "}\n"
   ]
  },
  {
   "cell_type": "code",
   "execution_count": 8,
   "metadata": {},
   "outputs": [
    {
     "name": "stdout",
     "output_type": "stream",
     "text": [
      "({'Operativos': 4700, 'De Capital': 9000, 'Recursos Humanos': 23000}, 'la categoria con un gran gasto de presupuesto es Recursos Humanos con un total de 23000')\n"
     ]
    }
   ],
   "source": [
    "def presupuesto_departamento(presupuesto):\n",
    "    gastos_categorias = {\n",
    "        \"Operativos\": 0,\n",
    "        \"De Capital\": 0,\n",
    "        \"Recursos Humanos\": 0\n",
    "    }\n",
    "    \n",
    "    for departamento, gastos in presupuesto.items():\n",
    "        for tipo, monto in gastos.items():\n",
    "            if tipo in [\"suministros\",\"servicios\"] :\n",
    "                gastos_categorias[\"Operativos\"] += monto\n",
    "            elif tipo in [\"publicidad\", \"equipos\"]:\n",
    "                gastos_categorias[\"De Capital\"] += monto\n",
    "            elif tipo in [\"salarios\", \"capacitaciones\"] :\n",
    "                gastos_categorias[\"Recursos Humanos\"] += monto\n",
    "    \n",
    "    categoria_gasto_mayor = max(gastos_categorias, key=gastos_categorias.get)\n",
    "    gasto_mayor = gastos_categorias[categoria_gasto_mayor]\n",
    "    \n",
    "    return gastos_categorias, f\"la categoria con un gran gasto de presupuesto es {categoria_gasto_mayor} con un total de {gasto_mayor}\"\n",
    "\n",
    "resultado = presupuesto_departamento(presupuesto)\n",
    "print(resultado)"
   ]
  },
  {
   "cell_type": "code",
   "execution_count": null,
   "metadata": {},
   "outputs": [],
   "source": [
    "def clasificar_gastos(presupuesto):\n",
    "    # Inicializar el diccionario de categorías\n",
    "    categorias_gastos = {\n",
    "        \"Operativos\": 0,\n",
    "        \"De Capital\": 0,\n",
    "        \"Recursos Humanos\": 0\n",
    "    }\n",
    "    \n",
    "    # Clasificar cada tipo de gasto en la categoría adecuada y sumar los montos\n",
    "    for departamento, gastos in presupuesto.items():\n",
    "        for tipo, monto in gastos.items():\n",
    "            if tipo in [\"suministros\", \"servicios\"]:\n",
    "                categorias_gastos[\"Operativos\"] += monto\n",
    "            elif tipo in [\"equipos\", \"infraestructura\"]:\n",
    "                categorias_gastos[\"De Capital\"] += monto\n",
    "            elif tipo in [\"salarios\", \"capacitaciones\"]:\n",
    "                categorias_gastos[\"Recursos Humanos\"] += monto\n",
    "    \n",
    "    # Encontrar la categoría con el mayor gasto\n",
    "    categoria_mayor_gasto = max(categorias_gastos, key=categorias_gastos.get)\n",
    "    gasto_mayor = categorias_gastos[categoria_mayor_gasto]\n",
    "    \n",
    "    return categorias_gastos, f\"La categoría con mayor gasto es {categoria_mayor_gasto} con un total de {gasto_mayor}.\"\n",
    "\n",
    "# Llamada a la función\n",
    "print(clasificar_gastos(presupuesto))\n"
   ]
  }
 ],
 "metadata": {
  "kernelspec": {
   "display_name": "Python 3",
   "language": "python",
   "name": "python3"
  },
  "language_info": {
   "codemirror_mode": {
    "name": "ipython",
    "version": 3
   },
   "file_extension": ".py",
   "mimetype": "text/x-python",
   "name": "python",
   "nbconvert_exporter": "python",
   "pygments_lexer": "ipython3",
   "version": "3.13.0"
  }
 },
 "nbformat": 4,
 "nbformat_minor": 2
}
