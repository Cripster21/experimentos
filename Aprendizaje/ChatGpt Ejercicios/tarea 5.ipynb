{
 "cells": [
  {
   "cell_type": "code",
   "execution_count": 1,
   "metadata": {},
   "outputs": [],
   "source": [
    "estudiantes = {\n",
    "    \"Ana\": {\"Matemáticas\": 80, \"Ciencias\": 75, \"Historia\": 90},\n",
    "    \"Luis\": {\"Matemáticas\": 60, \"Ciencias\": 55, \"Historia\": 65},\n",
    "    \"Maria\": {\"Matemáticas\": 70, \"Ciencias\": 85, \"Historia\": 95},\n",
    "    \"Juan\": {\"Matemáticas\": 50, \"Ciencias\": 40, \"Historia\": 45}\n",
    "}"
   ]
  },
  {
   "cell_type": "code",
   "execution_count": 2,
   "metadata": {},
   "outputs": [
    {
     "name": "stdout",
     "output_type": "stream",
     "text": [
      "Ana ha aprobado con un promedio de 81.66666666666667\n",
      "Luis ha suspendido con un promedio de 60.0\n",
      "Maria ha aprobado con un promedio de 83.33333333333333\n",
      "Juan ha suspendido con un promedio de 45.0\n",
      "hay 2 estudiantes aprobados y 2 estudiantes suspendidos\n"
     ]
    }
   ],
   "source": [
    "def registro_notas_estudiantes(estudiantes):\n",
    "    calificacion ={\n",
    "        \"aprobado\": 0,\n",
    "        \"suspendido\": 0\n",
    "    }\n",
    "    for estudiante, notas in estudiantes.items():\n",
    "        promedio = sum(notas.values()) / len(notas)\n",
    "        if estudiante and promedio >= 70:\n",
    "            print(f\"{estudiante} ha aprobado con un promedio de {promedio}\")\n",
    "            calificacion[\"aprobado\"] += 1\n",
    "        else:\n",
    "            print(f\"{estudiante} ha suspendido con un promedio de {promedio}\")\n",
    "            calificacion[\"suspendido\"] += 1\n",
    "    return f\"hay {calificacion['aprobado']} estudiantes aprobados y {calificacion['suspendido']} estudiantes suspendidos\"\n",
    "\n",
    "\n",
    "print(registro_notas_estudiantes(estudiantes))"
   ]
  }
 ],
 "metadata": {
  "kernelspec": {
   "display_name": "Python 3",
   "language": "python",
   "name": "python3"
  },
  "language_info": {
   "codemirror_mode": {
    "name": "ipython",
    "version": 3
   },
   "file_extension": ".py",
   "mimetype": "text/x-python",
   "name": "python",
   "nbconvert_exporter": "python",
   "pygments_lexer": "ipython3",
   "version": "3.13.0"
  }
 },
 "nbformat": 4,
 "nbformat_minor": 2
}
