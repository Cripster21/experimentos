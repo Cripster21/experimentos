{
 "cells": [
  {
   "cell_type": "code",
   "execution_count": 1,
   "metadata": {},
   "outputs": [],
   "source": [
    "ventas = {\n",
    "    \"Producto A\": [50, 60, 55, 70, 65, 80, 75, 90, 85, 100, 95, 120],\n",
    "    \"Producto B\": [20, 30, 25, 35, 30, 40, 35, 45, 50, 55, 60, 65],\n",
    "    \"Producto C\": [100, 110, 105, 115, 120, 125, 130, 135, 140, 145, 150, 155]\n",
    "}"
   ]
  },
  {
   "cell_type": "code",
   "execution_count": 9,
   "metadata": {},
   "outputs": [
    {
     "name": "stdout",
     "output_type": "stream",
     "text": [
      "Productos que no alcanzaron la cantidad requerida son: Producto B\n",
      "Productos que alcanzaron la cantidad requerida son : {'Producto A': 945, 'Producto C': 1530}\n"
     ]
    }
   ],
   "source": [
    "def cantidad_ventas_productos(ventas):\n",
    "    total_categorias = {}\n",
    "    for producto, cantidad in ventas.items():\n",
    "        total_ventas = sum(cantidad)\n",
    "        if producto and total_ventas >= 500 :\n",
    "            total_categorias[producto] = total_ventas\n",
    "        else:\n",
    "            print(f\"Productos que no alcanzaron la cantidad requerida son: {producto}\")\n",
    "    return f\"Productos que alcanzaron la cantidad requerida son : {total_categorias}\"\n",
    "\n",
    "resultado = cantidad_ventas_productos(ventas)\n",
    "print(resultado)"
   ]
  }
 ],
 "metadata": {
  "kernelspec": {
   "display_name": "Python 3",
   "language": "python",
   "name": "python3"
  },
  "language_info": {
   "codemirror_mode": {
    "name": "ipython",
    "version": 3
   },
   "file_extension": ".py",
   "mimetype": "text/x-python",
   "name": "python",
   "nbconvert_exporter": "python",
   "pygments_lexer": "ipython3",
   "version": "3.13.0"
  }
 },
 "nbformat": 4,
 "nbformat_minor": 2
}
