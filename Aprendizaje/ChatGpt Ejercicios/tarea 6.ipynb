{
 "cells": [
  {
   "cell_type": "code",
   "execution_count": 1,
   "metadata": {},
   "outputs": [],
   "source": [
    "inventario = {\n",
    "    \"Lápiz\": {\"cantidad\": 50, \"precio\": 1.5},\n",
    "    \"Cuaderno\": {\"cantidad\": 30, \"precio\": 3.0},\n",
    "    \"Mochila\": {\"cantidad\": 10, \"precio\": 20.0},\n",
    "    \"Marcador\": {\"cantidad\": 5, \"precio\": 1.0}\n",
    "}"
   ]
  },
  {
   "cell_type": "code",
   "execution_count": 22,
   "metadata": {},
   "outputs": [
    {
     "name": "stdout",
     "output_type": "stream",
     "text": [
      "El producto Lápiz se vendio un total de 75.0\n",
      "El producto Cuaderno se vendio un total de 90.0\n",
      "El producto Mochila se vendio un total de 200.0\n",
      "El producto Mochila tiene poco stock\n",
      "El producto Marcador se vendio un total de 5.0\n",
      "El producto Marcador tiene poco stock\n",
      "(\"Total de Productos:{'Lápiz': 75.0, 'Cuaderno': 90.0, 'Mochila': 200.0, 'Marcador': 5.0}\", \"Productos a reabastecer:{'Mochila': 10, 'Marcador': 5}\")\n"
     ]
    }
   ],
   "source": [
    "def Sistema_inventario_Tienda(inventario):\n",
    "    total = {}\n",
    "    restableser = {}\n",
    "    for producto, info in inventario.items():\n",
    "        cantidad = info[\"cantidad\"]\n",
    "        precio = info[\"precio\"]\n",
    "        valor_Total = cantidad * precio\n",
    "        if producto and cantidad > 10 :\n",
    "            print(f\"El producto {producto} se vendio un total de {valor_Total}\")\n",
    "            total[producto] = valor_Total\n",
    "        else:\n",
    "            print(f\"El producto {producto} se vendio un total de {valor_Total}\")\n",
    "            print(f\"El producto {producto} tiene poco stock\")\n",
    "            total[producto] = valor_Total\n",
    "            restableser[producto] = cantidad\n",
    "            \n",
    "    return f\"Total de Productos:{total}\" , f\"Productos a reabastecer:{restableser}\"\n",
    "\n",
    "resultado = Sistema_inventario_Tienda(inventario)\n",
    "print(resultado)"
   ]
  }
 ],
 "metadata": {
  "kernelspec": {
   "display_name": "Python 3",
   "language": "python",
   "name": "python3"
  },
  "language_info": {
   "codemirror_mode": {
    "name": "ipython",
    "version": 3
   },
   "file_extension": ".py",
   "mimetype": "text/x-python",
   "name": "python",
   "nbconvert_exporter": "python",
   "pygments_lexer": "ipython3",
   "version": "3.13.0"
  }
 },
 "nbformat": 4,
 "nbformat_minor": 2
}
