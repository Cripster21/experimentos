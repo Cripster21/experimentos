{
 "cells": [
  {
   "cell_type": "code",
   "execution_count": 4,
   "metadata": {},
   "outputs": [],
   "source": [
    "disponibilidad = {\n",
    "    \"Katherine\": [\"Lunes\", \"Martes\", \"Viernes\"],\n",
    "    \"Ariel\": [\"Martes\", \"Jueves\"],\n",
    "    \"Fernando\": [\"Lunes\", \"Jueves\", \"Viernes\"],\n",
    "    \"Isidora\": [\"Martes\", \"Miercoles\"],\n",
    "    \"Oliver\": [\"Lunes\", \"Miercoles\", \"Jueves\"],\n",
    "    \"Cristobal\": [\"Lunes\", \"Martes\", \"Miercoles\"],\n",
    "    \"Sebastian\": [],\n",
    "    \"Enrique\": [\"Martes\"],\n",
    "    \"Tristan\": [\"Jueves\", \"Viernes\"]\n",
    "}\n",
    "\n",
    "teletrabajo = [\"Sebastian\", \"Tristan\", \"Enrique\"]"
   ]
  },
  {
   "cell_type": "code",
   "execution_count": 5,
   "metadata": {},
   "outputs": [
    {
     "name": "stdout",
     "output_type": "stream",
     "text": [
      "{'Katherine': ['Lunes', 'Martes', 'Viernes'], 'Ariel': ['Martes', 'Jueves'], 'Fernando': ['Lunes', 'Jueves', 'Viernes'], 'Isidora': ['Martes', 'Miercoles'], 'Oliver': ['Lunes', 'Miercoles', 'Jueves'], 'Cristobal': ['Lunes', 'Martes', 'Miercoles']}\n"
     ]
    }
   ],
   "source": [
    "presenciales = {persona: dias for persona, dias in disponibilidad.items() if persona not in teletrabajo}\n",
    "print(presenciales)"
   ]
  },
  {
   "cell_type": "code",
   "execution_count": 10,
   "metadata": {},
   "outputs": [
    {
     "name": "stdout",
     "output_type": "stream",
     "text": [
      "El mejor día para la reunión es el Lunes con 7 asistentes presenciales.\n"
     ]
    }
   ],
   "source": [
    "def reuniones(disponibilidad, teletrabajo):\n",
    "    # Filtrar solo los miembros presenciales\n",
    "    presenciales = {persona: dias for persona, dias in disponibilidad.items() if persona not in teletrabajo}\n",
    "    \n",
    "    # Contar disponibilidad para cada día\n",
    "    dia_reunion_mayor_cantidad = {\n",
    "        \"Lunes\": 0,\n",
    "        \"Martes\": 0,\n",
    "        \"Miercoles\": 0,\n",
    "        \"Jueves\": 0,\n",
    "        \"Viernes\": 0\n",
    "    }\n",
    "    \n",
    "    # Contar la disponibilidad de cada día\n",
    "    for dias in presenciales.values():\n",
    "        for dia in dias:\n",
    "            if dia in dia_reunion_mayor_cantidad:\n",
    "                dia_reunion_mayor_cantidad[dia] += 1\n",
    "    \n",
    "    # Encontrar el día con la mayor cantidad de asistentes presenciales\n",
    "    mejor_dia = max(dia_reunion_mayor_cantidad, key=dia_reunion_mayor_cantidad.get)\n",
    "    online_asistentes = len(teletrabajo)\n",
    "    cantidad_asistentes = dia_reunion_mayor_cantidad[mejor_dia] + online_asistentes\n",
    "    \n",
    "    return f\"El mejor día para la reunión es el {mejor_dia} con {cantidad_asistentes} asistentes presenciales.\"\n",
    "\n",
    "print(reuniones(disponibilidad, teletrabajo))\n"
   ]
  }
 ],
 "metadata": {
  "kernelspec": {
   "display_name": "Python 3",
   "language": "python",
   "name": "python3"
  },
  "language_info": {
   "codemirror_mode": {
    "name": "ipython",
    "version": 3
   },
   "file_extension": ".py",
   "mimetype": "text/x-python",
   "name": "python",
   "nbconvert_exporter": "python",
   "pygments_lexer": "ipython3",
   "version": "3.13.0"
  }
 },
 "nbformat": 4,
 "nbformat_minor": 2
}
