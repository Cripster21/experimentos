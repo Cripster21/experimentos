{
 "cells": [
  {
   "cell_type": "code",
   "execution_count": 1,
   "metadata": {},
   "outputs": [],
   "source": [
    "# Datos de ventas \n",
    "ventas = [\n",
    "    {'producto': 'A', 'categoria': 'Oficina y libreria', 'cantidad': 10, 'precio_unitario': 100},\n",
    "    {'producto': 'B', 'categoria': 'Tecnologia', 'cantidad': 5, 'precio_unitario': 50},\n",
    "    {'producto': 'C', 'categoria': 'Tissue', 'cantidad': 7, 'precio_unitario': 80},\n",
    "    {'producto': 'D', 'categoria': 'Oficina y libreria', 'cantidad': 3, 'precio_unitario': 30},\n",
    "    {'producto': 'E', 'categoria': 'Papel fotocopia', 'cantidad': 8, 'precio_unitario': 20}\n",
    "]"
   ]
  },
  {
   "cell_type": "code",
   "execution_count": 2,
   "metadata": {},
   "outputs": [
    {
     "name": "stdout",
     "output_type": "stream",
     "text": [
      "{('A', 'Oficina y libreria'): 1000, ('B', 'Tecnologia'): 250, ('C', 'Tissue'): 560, ('D', 'Oficina y libreria'): 90, ('E', 'Papel fotocopia'): 160}\n"
     ]
    }
   ],
   "source": [
    "# Función para calcular el total de ventas por categoría\n",
    "def calcular_total_por_categoria(ventas):\n",
    "    totales_por_categoria = {}\n",
    "    for venta in ventas:\n",
    "        categoria = venta['categoria']\n",
    "        tipo = venta['producto']\n",
    "        total = venta['cantidad'] * venta['precio_unitario']\n",
    "\n",
    "        if categoria in tipo in totales_por_categoria:\n",
    "            totales_por_categoria[tipo, categoria] = total \n",
    "        else:\n",
    "            totales_por_categoria[tipo, categoria] = total\n",
    "    \n",
    "    return totales_por_categoria\n",
    "\n",
    "# Llamada a la función y muestra de resultados\n",
    "resultados = calcular_total_por_categoria(ventas)\n",
    "print(resultados)"
   ]
  }
 ],
 "metadata": {
  "kernelspec": {
   "display_name": "Python 3",
   "language": "python",
   "name": "python3"
  },
  "language_info": {
   "codemirror_mode": {
    "name": "ipython",
    "version": 3
   },
   "file_extension": ".py",
   "mimetype": "text/x-python",
   "name": "python",
   "nbconvert_exporter": "python",
   "pygments_lexer": "ipython3",
   "version": "3.13.0"
  }
 },
 "nbformat": 4,
 "nbformat_minor": 2
}
